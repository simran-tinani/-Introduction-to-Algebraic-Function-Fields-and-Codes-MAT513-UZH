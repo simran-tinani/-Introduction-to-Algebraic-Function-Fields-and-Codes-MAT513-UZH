{
 "cells": [
  {
   "cell_type": "code",
   "execution_count": null,
   "metadata": {},
   "outputs": [],
   "source": [
    "# Solution to Exercise 2 in sheet 7 (https://www.math.uzh.ch/typo3conf/ext/qfq/Classes/Api/download.php?s=6156b87995c50)"
   ]
  },
  {
   "cell_type": "code",
   "execution_count": 4,
   "metadata": {},
   "outputs": [
    {
     "name": "stdout",
     "output_type": "stream",
     "text": [
      "n: 7 k: 4 d: 2 Singleton bound holds: True MDS: False\n"
     ]
    }
   ],
   "source": [
    "n=7\n",
    "k=4\n",
    "q=3\n",
    "M=Mat(GF(q),k,n).random_element()\n",
    "C = codes.LinearCode(M)\n",
    "d=C.minimum_distance()\n",
    "k=C.dimension()\n",
    "n=C.length()\n",
    "print(\"n:\", n, \"k:\", k, \"d:\", d, \"Singleton bound holds:\", d+k<=n+1, \"MDS:\", d+k==n+1)"
   ]
  },
  {
   "cell_type": "code",
   "execution_count": 6,
   "metadata": {},
   "outputs": [
    {
     "name": "stdout",
     "output_type": "stream",
     "text": [
      "n: 10 k: 6 d: 3 Singleton bound holds: True MDS: False\n"
     ]
    }
   ],
   "source": [
    "n=10\n",
    "k=6\n",
    "q=13\n",
    "M=Mat(GF(q),k,n).random_element()\n",
    "C = codes.LinearCode(M)\n",
    "d=C.minimum_distance()\n",
    "k=C.dimension()\n",
    "n=C.length()\n",
    "print(\"n:\", n, \"k:\", k, \"d:\", d, \"Singleton bound holds:\", d+k<=n+1, \"MDS:\", d+k==n+1)"
   ]
  },
  {
   "cell_type": "code",
   "execution_count": 8,
   "metadata": {},
   "outputs": [
    {
     "name": "stdout",
     "output_type": "stream",
     "text": [
      "n: 9 k: 4 d: 5 Singleton bound holds: True MDS: False\n"
     ]
    }
   ],
   "source": [
    "n=9 # takes a longer time to run\n",
    "k=4\n",
    "q=49\n",
    "M=Mat(GF(q),k,n).random_element()\n",
    "C = codes.LinearCode(M)\n",
    "d=C.minimum_distance()\n",
    "k=C.dimension()\n",
    "n=C.length()\n",
    "print(\"n:\", n, \"k:\", k, \"d:\", d, \"Singleton bound holds:\", d+k<=n+1, \"MDS:\", d+k==n+1)"
   ]
  },
  {
   "cell_type": "code",
   "execution_count": 9,
   "metadata": {},
   "outputs": [
    {
     "name": "stdout",
     "output_type": "stream",
     "text": [
      "n: 8 k: 2 d: 6 Singleton bound holds: True MDS: False\n"
     ]
    }
   ],
   "source": [
    "n=8\n",
    "k=2\n",
    "q=19\n",
    "M=Mat(GF(q),k,n).random_element()\n",
    "C = codes.LinearCode(M)\n",
    "d=C.minimum_distance()\n",
    "k=C.dimension()\n",
    "n=C.length()\n",
    "print(\"n:\", n, \"k:\", k, \"d:\", d, \"Singleton bound holds:\", d+k<=n+1, \"MDS:\", d+k==n+1)"
   ]
  },
  {
   "cell_type": "code",
   "execution_count": 15,
   "metadata": {},
   "outputs": [
    {
     "name": "stdout",
     "output_type": "stream",
     "text": [
      "n: 7 k: 3 d: 3 Singleton bound holds: True MDS: False\n",
      "n: 7 k: 3 d: 3 Singleton bound holds: True MDS: False\n",
      "n: 7 k: 3 d: 3 Singleton bound holds: True MDS: False\n"
     ]
    }
   ],
   "source": [
    "M = matrix(GF(2), [[1, 0, 0, 0, 1, 0, 1],\n",
    "                [0, 1, 0, 0, 1, 1, 0],\n",
    "                [0, 0, 1, 0, 0, 1, 1]])\n",
    "C = codes.LinearCode(M)\n",
    "d=C.minimum_distance()\n",
    "k=C.dimension()\n",
    "n=C.length()\n",
    "print(\"n:\", n, \"k:\", k, \"d:\", d, \"Singleton bound holds:\", d+k<=n+1, \"MDS:\", d+k==n+1)\n",
    "M = matrix(GF(16), [[1, 0, 0, 0, 1, 0, 1],\n",
    "                [0, 1, 0, 0, 1, 1, 0],\n",
    "                [0, 0, 1, 0, 0, 1, 1]])\n",
    "C = codes.LinearCode(M)\n",
    "d=C.minimum_distance()\n",
    "k=C.dimension()\n",
    "n=C.length()\n",
    "print(\"n:\", n, \"k:\", k, \"d:\", d, \"Singleton bound holds:\", d+k<=n+1, \"MDS:\", d+k==n+1)\n",
    "M = matrix(GF(32), [[1, 0, 0, 0, 1, 0, 1],\n",
    "                [0, 1, 0, 0, 1, 1, 0],\n",
    "                [0, 0, 1, 0, 0, 1, 1]])\n",
    "C = codes.LinearCode(M)\n",
    "d=C.minimum_distance()\n",
    "k=C.dimension()\n",
    "n=C.length()\n",
    "print(\"n:\", n, \"k:\", k, \"d:\", d, \"Singleton bound holds:\", d+k<=n+1, \"MDS:\", d+k==n+1)"
   ]
  },
  {
   "cell_type": "code",
   "execution_count": 16,
   "metadata": {},
   "outputs": [
    {
     "name": "stdout",
     "output_type": "stream",
     "text": [
      "n: 7 k: 3 d: 3 Singleton bound holds: True MDS: False\n",
      "n: 8 k: 3 d: 4 Singleton bound holds: True MDS: False\n",
      "n: 7 k: 4 d: 1 Singleton bound holds: True MDS: False\n"
     ]
    }
   ],
   "source": [
    "M = matrix(GF(2), [[1, 0, 0, 0, 1, 0, 1],\n",
    "                [0, 1, 0, 0, 1, 1, 0],\n",
    "                [0, 0, 1, 0, 0, 1, 1]])\n",
    "C = codes.LinearCode(M)\n",
    "d=C.minimum_distance()\n",
    "k=C.dimension()\n",
    "n=C.length()\n",
    "print(\"n:\", n, \"k:\", k, \"d:\", d, \"Singleton bound holds:\", d+k<=n+1, \"MDS:\", d+k==n+1)\n",
    "M = matrix(GF(16), [[1, 0, 0, 0, 1, 0, 1,1],\n",
    "                [0, 1, 0, 0, 1, 1, 0,1],\n",
    "                [0, 0, 1, 0, 0, 1, 1,1]])\n",
    "C = codes.LinearCode(M)\n",
    "d=C.minimum_distance()\n",
    "k=C.dimension()\n",
    "n=C.length()\n",
    "print(\"n:\", n, \"k:\", k, \"d:\", d, \"Singleton bound holds:\", d+k<=n+1, \"MDS:\", d+k==n+1)\n",
    "M = matrix(GF(32), [[1, 0, 0, 0, 1, 0, 1],\n",
    "                [0, 1, 0, 0, 1, 1, 0],\n",
    "                [0, 0, 1, 0, 0, 1, 1],\n",
    "                   [0, 0,0, 0, 0, 1, 1]])\n",
    "C = codes.LinearCode(M)\n",
    "d=C.minimum_distance()\n",
    "k=C.dimension()\n",
    "n=C.length()\n",
    "print(\"n:\", n, \"k:\", k, \"d:\", d, \"Singleton bound holds:\", d+k<=n+1, \"MDS:\", d+k==n+1)"
   ]
  },
  {
   "cell_type": "code",
   "execution_count": 17,
   "metadata": {},
   "outputs": [
    {
     "name": "stdout",
     "output_type": "stream",
     "text": [
      "n: 4 k: 3 d: 1 Singleton bound holds: True MDS: False\n",
      "n: 6 k: 3 d: 2 Singleton bound holds: True MDS: False\n",
      "n: 4 k: 3 d: 1 Singleton bound holds: True MDS: False\n"
     ]
    }
   ],
   "source": [
    "M = matrix(GF(2), [[1, 1, 1, 0],\n",
    "                [0, 1, 0, 0],\n",
    "                [0, 0, 1, 0]])\n",
    "C = codes.LinearCode(M)\n",
    "d=C.minimum_distance()\n",
    "k=C.dimension()\n",
    "n=C.length()\n",
    "print(\"n:\", n, \"k:\", k, \"d:\", d, \"Singleton bound holds:\", d+k<=n+1, \"MDS:\", d+k==n+1)\n",
    "M = matrix(GF(16), [[1, 0, 0, 0, 1, 0],\n",
    "                [0, 1, 0, 0, 1, 1],\n",
    "                [0, 0, 1, 0, 0, 1]])\n",
    "C = codes.LinearCode(M)\n",
    "d=C.minimum_distance()\n",
    "k=C.dimension()\n",
    "n=C.length()\n",
    "print(\"n:\", n, \"k:\", k, \"d:\", d, \"Singleton bound holds:\", d+k<=n+1, \"MDS:\", d+k==n+1)\n",
    "M = matrix(GF(32), [[1, 0, 0, 0 ],\n",
    "                [0, 1, 0, 0 ],\n",
    "                [0, 0, 1, 0],\n",
    "                   [0, 0,0, 0]])\n",
    "C = codes.LinearCode(M)\n",
    "d=C.minimum_distance()\n",
    "k=C.dimension()\n",
    "n=C.length()\n",
    "print(\"n:\", n, \"k:\", k, \"d:\", d, \"Singleton bound holds:\", d+k<=n+1, \"MDS:\", d+k==n+1)"
   ]
  },
  {
   "cell_type": "code",
   "execution_count": 18,
   "metadata": {},
   "outputs": [
    {
     "name": "stdout",
     "output_type": "stream",
     "text": [
      "n: 7 k: 3 d: 1 Singleton bound holds: True MDS: False\n",
      "n: 3 k: 3 d: 1 Singleton bound holds: True MDS: True\n",
      "n: 2 k: 2 d: 1 Singleton bound holds: True MDS: True\n"
     ]
    }
   ],
   "source": [
    "M = matrix(GF(2), [[1, 1,1, 0, 1, 0, 1],\n",
    "                [0, 1, 0, 0, 1, 1, 0],\n",
    "                [0, 0, 1, 0, 0, 1, 1]])\n",
    "C = codes.LinearCode(M)\n",
    "d=C.minimum_distance()\n",
    "k=C.dimension()\n",
    "n=C.length()\n",
    "print(\"n:\", n, \"k:\", k, \"d:\", d, \"Singleton bound holds:\", d+k<=n+1, \"MDS:\", d+k==n+1)\n",
    "M = matrix(GF(2), [[1, 1,1],\n",
    "                [0, 1, 0],\n",
    "                [0, 0, 1]])\n",
    "C = codes.LinearCode(M)\n",
    "d=C.minimum_distance()\n",
    "k=C.dimension()\n",
    "n=C.length()\n",
    "print(\"n:\", n, \"k:\", k, \"d:\", d, \"Singleton bound holds:\", d+k<=n+1, \"MDS:\", d+k==n+1)\n",
    "M = matrix(GF(32), [[1, 0],\n",
    "                [0, 1],\n",
    "                [0, 0],\n",
    "                   [0, 0]])\n",
    "C = codes.LinearCode(M)\n",
    "d=C.minimum_distance()\n",
    "k=C.dimension()\n",
    "n=C.length()\n",
    "print(\"n:\", n, \"k:\", k, \"d:\", d, \"Singleton bound holds:\", d+k<=n+1, \"MDS:\", d+k==n+1)"
   ]
  },
  {
   "cell_type": "code",
   "execution_count": 22,
   "metadata": {},
   "outputs": [
    {
     "name": "stdout",
     "output_type": "stream",
     "text": [
      "minimum distance 6 generator matrix: [ 1  2  3  4  5  6  7  8  9 10 11]\n",
      "[ 0  2  6 12  3 13  8  5  4  5  8]\n",
      "[ 0  2 12  2 12 14 14  1 15 11 12]\n",
      "[ 0  2  7  6 14  2 16  7  1 14  1]\n",
      "[ 0  2 14  1  5 10 11 15  8  7 10]\n",
      "[ 0  2 11  3  3 16 15  3 13 12 15] True\n",
      "minimum distance 6 generator matrix: [ 2  3  4  5  6  7  8  9 10 11 12]\n",
      "[ 0  3  8 15  7  1 14 12 12 14  1]\n",
      "[ 0  3 16 11 11  5 16 16 11  7 10]\n",
      "[ 0  3 15 16 10  8 11 10  3 12 15]\n",
      "[ 0  3 13 14  6  6 15  2  7  6 14]\n",
      "[ 0  3  9  8  7 13  5 14  5  3  4] True\n",
      "minimum distance 6 generator matrix: [ 3  4  5  6  7  8  9 10 11 12 13]\n",
      "[ 0  4 10  1 11  6  3  2  3  6 11]\n",
      "[ 0  4  3  3 10 13  1 14  7  3  8]\n",
      "[ 0  4  6  9  6 14  6 13  5 10 12]\n",
      "[ 0  4 12 10  7  2  2  6  6  5  1]\n",
      "[ 0  4  7 13 11 10 12  8 14 11 10] True\n"
     ]
    }
   ],
   "source": [
    "F = GF(17)\n",
    "length, dimension = 11, 6\n",
    "evaluation_pts = F.list()[:length]\n",
    "column_mults = F.list()[1:length+1]\n",
    "C = codes.GeneralizedReedSolomonCode(evaluation_pts, dimension, column_mults)\n",
    "d= C.minimum_distance()\n",
    "print(\"minimum distance\",d, \"generator matrix:\", C.generator_matrix(), dimension+d==length+1)\n",
    "\n",
    "\n",
    "F = GF(17)\n",
    "length, dimension = 11, 6\n",
    "evaluation_pts = F.list()[:length]\n",
    "column_mults = F.list()[2:length+2]\n",
    "C = codes.GeneralizedReedSolomonCode(evaluation_pts, dimension, column_mults)\n",
    "d= C.minimum_distance()\n",
    "print(\"minimum distance\",d, \"generator matrix:\", C.generator_matrix(), dimension+d==length+1)\n",
    "\n",
    "F = GF(17)\n",
    "length, dimension = 11, 6\n",
    "evaluation_pts = F.list()[:length]\n",
    "column_mults = F.list()[3:length+3]\n",
    "C = codes.GeneralizedReedSolomonCode(evaluation_pts, dimension, column_mults)\n",
    "d= C.minimum_distance()\n",
    "print(\"minimum distance\",d, \"generator matrix:\", C.generator_matrix(), dimension+d==length+1)\n"
   ]
  },
  {
   "cell_type": "code",
   "execution_count": 23,
   "metadata": {},
   "outputs": [
    {
     "name": "stdout",
     "output_type": "stream",
     "text": [
      "minimum distance 3 generator matrix: [      z2   z2 + 4 5*z2 + 4 2*z2 + 6   z2 + 1]\n",
      "[       0 5*z2 + 4   z2 + 1 6*z2 + 1     3*z2]\n",
      "[       0 2*z2 + 6 6*z2 + 1 3*z2 + 5 3*z2 + 3] True\n"
     ]
    }
   ],
   "source": [
    "F = GF(49)\n",
    "length, dimension = 5, 3\n",
    "evaluation_pts = F.list()[:length]\n",
    "column_mults = F.list()[1:length+1]\n",
    "C = codes.GeneralizedReedSolomonCode(evaluation_pts, dimension, column_mults)\n",
    "d= C.minimum_distance()\n",
    "print(\"minimum distance\",d, \"generator matrix:\", C.generator_matrix(), dimension+d==length+1)\n"
   ]
  },
  {
   "cell_type": "code",
   "execution_count": 24,
   "metadata": {},
   "outputs": [
    {
     "name": "stdout",
     "output_type": "stream",
     "text": [
      "minimum distance 5 generator matrix: [                        z4                       z4^2                       z4^3                   z4^3 + 1              z4^3 + z4 + 1       z4^3 + z4^2 + z4 + 1     2*z4^3 + z4^2 + z4 + 1              z4^2 + z4 + 2         z4^3 + z4^2 + 2*z4        2*z4^3 + 2*z4^2 + 1]\n",
      "[                         0                       z4^3              z4^3 + z4 + 1     2*z4^3 + z4^2 + z4 + 1         z4^3 + z4^2 + 2*z4              z4^3 + z4 + 2   2*z4^3 + 2*z4^2 + z4 + 1   2*z4^3 + z4^2 + 2*z4 + 1       2*z4^3 + z4^2 + 2*z4              2*z4^3 + 2*z4]\n",
      "[                         0                   z4^3 + 1     2*z4^3 + z4^2 + z4 + 1        2*z4^3 + 2*z4^2 + 1   2*z4^3 + 2*z4^2 + z4 + 1            2*z4^2 + z4 + 2              2*z4^3 + 2*z4   z4^3 + 2*z4^2 + 2*z4 + 1                   z4^2 + 2                     z4 + 1]\n",
      "[                         0              z4^3 + z4 + 1         z4^3 + z4^2 + 2*z4   2*z4^3 + 2*z4^2 + z4 + 1       2*z4^3 + z4^2 + 2*z4            z4^3 + 2*z4 + 2                   z4^2 + 2                  z4^2 + z4   2*z4^3 + z4^2 + 2*z4 + 2                   2*z4 + 1]\n",
      "[                         0       z4^3 + z4^2 + z4 + 1              z4^3 + z4 + 2            2*z4^2 + z4 + 2            z4^3 + 2*z4 + 2                z4^3 + 2*z4                 2*z4^3 + 1          z4^3 + 2*z4^2 + 2                       2*z4 2*z4^3 + 2*z4^2 + 2*z4 + 2]\n",
      "[                         0     2*z4^3 + z4^2 + z4 + 1   2*z4^3 + 2*z4^2 + z4 + 1              2*z4^3 + 2*z4                   z4^2 + 2                 2*z4^3 + 1                   2*z4 + 1                     2*z4^3       2*z4^3 + 2*z4^2 + z4     z4^3 + 2*z4^2 + z4 + 2] True\n"
     ]
    }
   ],
   "source": [
    "F = GF(81)\n",
    "length, dimension = 10, 6\n",
    "evaluation_pts = F.list()[:length]\n",
    "column_mults = F.list()[1:length+1]\n",
    "C = codes.GeneralizedReedSolomonCode(evaluation_pts, dimension, column_mults)\n",
    "d= C.minimum_distance()\n",
    "print(\"minimum distance\",d, \"generator matrix:\", C.generator_matrix(), dimension+d==length+1)"
   ]
  }
 ],
 "metadata": {
  "kernelspec": {
   "display_name": "SageMath 9.2",
   "language": "sage",
   "name": "sagemath"
  },
  "language_info": {
   "codemirror_mode": {
    "name": "ipython",
    "version": 3
   },
   "file_extension": ".py",
   "mimetype": "text/x-python",
   "name": "python",
   "nbconvert_exporter": "python",
   "pygments_lexer": "ipython3",
   "version": "3.7.7"
  }
 },
 "nbformat": 4,
 "nbformat_minor": 4
}

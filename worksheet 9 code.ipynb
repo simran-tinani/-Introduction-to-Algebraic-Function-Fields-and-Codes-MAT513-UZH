{
 "cells": [
  {
   "cell_type": "code",
   "execution_count": null,
   "metadata": {},
   "outputs": [],
   "source": [
    "# Solution to exercise 3 of worksheet 9 (https://www.math.uzh.ch/typo3conf/ext/qfq/Classes/Api/download.php?s=6156b87995d84). \n",
    "# This code constructs BCH and Goppa codes directly without the use of the predefined functions "
   ]
  },
  {
   "cell_type": "code",
   "execution_count": null,
   "metadata": {},
   "outputs": [],
   "source": [
    "def check_primitive(a,n): # checks if an element of a field with size <= n is primitive\n",
    "    for m in range(1,n):\n",
    "        if a^m==1:\n",
    "            return False\n",
    "    return True"
   ]
  },
  {
   "cell_type": "code",
   "execution_count": 60,
   "metadata": {},
   "outputs": [],
   "source": [
    "def generate_bch(base_field, extension, beta, delta, l, n): # function to generate BCH codes for given starting parameters\n",
    "    a=-l; b=delta-2-a\n",
    "    if a+b<0 or a+b>n-2:\n",
    "        return \"Wrong parameters\"\n",
    "    M=matrix(extension, delta-1, n)\n",
    "    for i in range(0,delta-1):\n",
    "        for j in range (0,n):\n",
    "            M[i,j]=beta^(j*(l+i))\n",
    "    C=codes.LinearCode(M)\n",
    "    D=C.dual_code()\n",
    "    E=codes.SubfieldSubcode(D, base_field)\n",
    "    min_dist=E.minimum_distance()\n",
    "    return(E, min_dist, min_dist+E.dimension()<=n+1) # final code and minimum distance, verification of Singleton bound"
   ]
  },
  {
   "cell_type": "code",
   "execution_count": 77,
   "metadata": {},
   "outputs": [],
   "source": [
    "def generate_goppa(base_field, extension, L, g): # function to generate Goppa codes for given starting parameters\n",
    "    n=len(L)\n",
    "    deg=g.degree()\n",
    "    M=matrix(extension, deg, n)\n",
    "    for i in range(0,deg):\n",
    "        for j in range (0,n):\n",
    "            M[i,j]=(L[j]^i)/g(L[j])\n",
    "    C=codes.LinearCode(M)\n",
    "    D=C.dual_code()\n",
    "    E=codes.SubfieldSubcode(D, base_field)\n",
    "    min_dist=E.minimum_distance()\n",
    "    return(E, min_dist, min_dist+E.dimension()<=n+1) # final code and minimum distance, verification of Singleton bound"
   ]
  },
  {
   "cell_type": "code",
   "execution_count": 61,
   "metadata": {},
   "outputs": [
    {
     "name": "stdout",
     "output_type": "stream",
     "text": [
      "(Subfield subcode of [4, 2] linear code over GF(9) down to GF(3), 4, True)\n",
      "(Subfield subcode of [4, 2] linear code over GF(9) down to GF(3), 4, True)\n"
     ]
    }
   ],
   "source": [
    "## BCH codes over F_9\n",
    "\n",
    "base_field=GF(3,'y')\n",
    "extension=GF(3^2,'z')\n",
    "K.<x> = FunctionField(base_field); _.<Y> = K[]\n",
    "n=4 # n divides 3^2-1\n",
    "l=2\n",
    "delta=3 #a=-l, a+b = delta-2, #k=delta-1\n",
    "L=[a for a in extension.list() if a^n==1 and check_primitive(a,n) is True] # primitive nth roots\n",
    "for beta in L:\n",
    "    print(generate_bch(base_field, extension, beta, delta, l, n))"
   ]
  },
  {
   "cell_type": "code",
   "execution_count": 62,
   "metadata": {},
   "outputs": [
    {
     "name": "stdout",
     "output_type": "stream",
     "text": [
      "(Subfield subcode of [4, 3] linear code over GF(125) down to GF(5), 2, True)\n",
      "(Subfield subcode of [4, 3] linear code over GF(125) down to GF(5), 2, True)\n"
     ]
    }
   ],
   "source": [
    "## BCH codes over F_125\n",
    "\n",
    "base_field=GF(5,'y')\n",
    "extension=GF(5^3,'z')\n",
    "K.<x> = FunctionField(base_field); _.<Y> = K[]\n",
    "n=4 # n divides 5^3-1\n",
    "l=4\n",
    "delta=2 #a=-l, a+b = delta-2, #k=delta-1\n",
    "L=[a for a in extension.list() if a^n==1 and check_primitive(a,n) is True] # primitive nth roots\n",
    "for beta in L:\n",
    "    print(generate_bch(base_field, extension, beta, delta, l, n))"
   ]
  },
  {
   "cell_type": "code",
   "execution_count": 63,
   "metadata": {},
   "outputs": [
    {
     "name": "stdout",
     "output_type": "stream",
     "text": [
      "(Subfield subcode of [6, 5] linear code over GF(49) down to GF(7), 2, True)\n",
      "(Subfield subcode of [6, 5] linear code over GF(49) down to GF(7), 2, True)\n"
     ]
    }
   ],
   "source": [
    "## BCH codes over F_49\n",
    "\n",
    "\n",
    "base_field=GF(7,'y')\n",
    "extension=GF(7^2,'z')\n",
    "K.<x> = FunctionField(base_field); _.<Y> = K[]\n",
    "n=6 # n divides 5^3-1\n",
    "l=4\n",
    "delta=2 #a=-l, a+b = delta-2, #k=delta-1\n",
    "L=[a for a in extension.list() if a^n==1 and check_primitive(a,n) is True] # primitive nth roots\n",
    "for beta in L:\n",
    "    print(generate_bch(base_field, extension, beta, delta, l, n))"
   ]
  },
  {
   "cell_type": "code",
   "execution_count": 79,
   "metadata": {},
   "outputs": [
    {
     "data": {
      "text/plain": [
       "(Subfield subcode of [7, 4] linear code over GF(8) down to GF(2), 7, True)"
      ]
     },
     "execution_count": 79,
     "metadata": {},
     "output_type": "execute_result"
    }
   ],
   "source": [
    "## Goppa codes over F_8\n",
    "\n",
    "base_field=GF(2,'y')\n",
    "extension=GF(2^3,'z')\n",
    "R, t = extension['t'].objgen()\n",
    "K.<x> = FunctionField(base_field); _.<Y> = K[]\n",
    "g=t^3+t^2+t+1\n",
    "L=[a for a in extension.list() if g(a)!=0]\n",
    "generate_goppa(base_field, extension, L, g)"
   ]
  },
  {
   "cell_type": "code",
   "execution_count": 83,
   "metadata": {},
   "outputs": [
    {
     "data": {
      "text/plain": [
       "(Subfield subcode of [7, 3] linear code over GF(9) down to GF(3), 7, True)"
      ]
     },
     "execution_count": 83,
     "metadata": {},
     "output_type": "execute_result"
    }
   ],
   "source": [
    "## Goppa codes over F_9\n",
    "\n",
    "\n",
    "base_field=GF(3,'y')\n",
    "extension=GF(3^2,'z')\n",
    "R, t = extension['t'].objgen()\n",
    "K.<x> = FunctionField(base_field); _.<Y> = K[]\n",
    "g=t^4+2*t^2+1\n",
    "L=[a for a in extension.list() if g(a)!=0]\n",
    "generate_goppa(base_field, extension, L, g)"
   ]
  },
  {
   "cell_type": "code",
   "execution_count": 86,
   "metadata": {},
   "outputs": [
    {
     "data": {
      "text/plain": [
       "(Subfield subcode of [22, 16] linear code over GF(25) down to GF(5), 7, True)"
      ]
     },
     "execution_count": 86,
     "metadata": {},
     "output_type": "execute_result"
    }
   ],
   "source": [
    "## Goppa codes over F_25\n",
    "\n",
    "\n",
    "base_field=GF(5,'y')\n",
    "extension=GF(5^2,'z')\n",
    "R, t = extension['t'].objgen()\n",
    "K.<x> = FunctionField(base_field); _.<Y> = K[]\n",
    "g=t^6+4*t^2+6*t+1\n",
    "L=[a for a in extension.list() if g(a)!=0]\n",
    "generate_goppa(base_field, extension, L, g)"
   ]
  }
 ],
 "metadata": {
  "kernelspec": {
   "display_name": "SageMath 9.2",
   "language": "sage",
   "name": "sagemath"
  },
  "language_info": {
   "codemirror_mode": {
    "name": "ipython",
    "version": 3
   },
   "file_extension": ".py",
   "mimetype": "text/x-python",
   "name": "python",
   "nbconvert_exporter": "python",
   "pygments_lexer": "ipython3",
   "version": "3.7.7"
  }
 },
 "nbformat": 4,
 "nbformat_minor": 4
}

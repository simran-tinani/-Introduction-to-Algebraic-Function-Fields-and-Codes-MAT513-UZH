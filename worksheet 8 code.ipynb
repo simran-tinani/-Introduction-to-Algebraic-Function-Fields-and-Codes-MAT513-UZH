{
 "cells": [
  {
   "cell_type": "code",
   "execution_count": null,
   "metadata": {},
   "outputs": [],
   "source": [
    "# Solution to exercise 3 of worksheet 8 (https://www.math.uzh.ch/typo3conf/ext/qfq/Classes/Api/download.php?s=6156b87995cea). \n",
    "# This code constructs Hermitian codes directly without the use of the predefined functions "
   ]
  },
  {
   "cell_type": "code",
   "execution_count": 1,
   "metadata": {},
   "outputs": [
    {
     "name": "stdout",
     "output_type": "stream",
     "text": [
      "6 [x^2, x, 1, x*Y, Y, Y^2]\n",
      "19\n"
     ]
    }
   ],
   "source": [
    "# Construction of Hermitian codes\n",
    "\n",
    "base_field=GF(3^2)\n",
    "r=8 # this is the solution for the case r=8. cases r=3, 5 are solved in the exact same manner\n",
    "K.<x> = FunctionField(base_field); _.<Y> = K[]\n",
    "L.<Y> = K.extension(Y^3+Y - (x^4)); L; _.<T>=L[]; \n",
    "L.genus()\n",
    "P=L.places() # set of rational places of H (part a)\n",
    "xv=[x.valuation(p) for p in P]\n",
    "yv=[Y.valuation(p) for p in P]\n",
    "for i in range(0,len(P)): # finds the unique rational place which is a pole at both x and y (solution to part b)\n",
    "    if xv[i]<0 and yv[i]<0:\n",
    "        p=P[i]\n",
    "        break\n",
    "D = p.divisor()\n",
    "D=r*D\n",
    "fxns=D.basis_function_space() # this is the basis {x1, ... xm}\n",
    "print(len(fxns),fxns) # dimension of riemann roch space, basis, solution to part c\n",
    "P.remove(p)\n",
    "A = Matrix(base_field,len(P),len(fxns),[0]*len(P)*len(fxns))\n",
    "count=0\n",
    "for q in P:\n",
    "    k = q.residue_field() # entry number 2 is the required residue class map\n",
    "    row=([k[2](z) for z in fxns])\n",
    "    A[count,:]=vector(row)\n",
    "    count=count+1\n",
    "M=A.transpose()\n",
    "C = LinearCode(M) # C is the required Hermitian code\n",
    "print(C.minimum_distance())"
   ]
  },
  {
   "cell_type": "code",
   "execution_count": 2,
   "metadata": {},
   "outputs": [
    {
     "name": "stdout",
     "output_type": "stream",
     "text": [
      "2 [x, 1]\n",
      "24\n"
     ]
    }
   ],
   "source": [
    "base_field=GF(3^2)\n",
    "r=3\n",
    "K.<x> = FunctionField(base_field); _.<Y> = K[]\n",
    "L.<Y> = K.extension(Y^3+Y - (x^4)); L; _.<T>=L[]; \n",
    "L.genus()\n",
    "P=L.places()\n",
    "xv=[x.valuation(p) for p in P]\n",
    "yv=[Y.valuation(p) for p in P]\n",
    "for i in range(0,len(P)): # finds the unique rational place which is a pole at both x and y\n",
    "    if xv[i]<0 and yv[i]<0:\n",
    "        p=P[i]\n",
    "        break\n",
    "D = p.divisor()\n",
    "D=r*D\n",
    "fxns=D.basis_function_space()\n",
    "print(len(fxns),fxns) # dimension of riemann roch space, basis\n",
    "P.remove(p)\n",
    "A = Matrix(base_field,len(P),len(fxns),[0]*len(P)*len(fxns))\n",
    "count=0\n",
    "for q in P:\n",
    "    k = q.residue_field() # entry number 2 is the required residue class map\n",
    "    row=([k[2](z) for z in fxns])\n",
    "    A[count,:]=vector(row)\n",
    "    count=count+1\n",
    "M=A.transpose()\n",
    "C = LinearCode(M)\n",
    "print(C.minimum_distance())"
   ]
  },
  {
   "cell_type": "code",
   "execution_count": 4,
   "metadata": {},
   "outputs": [
    {
     "name": "stdout",
     "output_type": "stream",
     "text": [
      "6 [x^2, x, 1, x*Y, Y, Y^2]\n",
      "11\n"
     ]
    }
   ],
   "source": [
    "base_field=GF(5^2)\n",
    "r=8\n",
    "K.<x> = FunctionField(base_field); _.<Y> = K[]\n",
    "L.<Y> = K.extension(Y^3+Y - (x^4)); L; _.<T>=L[]; \n",
    "L.genus()\n",
    "P=L.places()\n",
    "xv=[x.valuation(p) for p in P]\n",
    "yv=[Y.valuation(p) for p in P]\n",
    "for i in range(0,len(P)): # finds the unique rational place which is a pole at both x and y\n",
    "    if xv[i]<0 and yv[i]<0:\n",
    "        p=P[i]\n",
    "        break\n",
    "D = p.divisor()\n",
    "D=r*D\n",
    "fxns=D.basis_function_space()\n",
    "print(len(fxns),fxns) # dimension of riemann roch space, basis\n",
    "P.remove(p)\n",
    "A = Matrix(base_field,len(P),len(fxns),[0]*len(P)*len(fxns))\n",
    "count=0\n",
    "for q in P:\n",
    "    k = q.residue_field() # entry number 2 is the required residue class map\n",
    "    row=([k[2](z) for z in fxns])\n",
    "    A[count,:]=vector(row)\n",
    "    count=count+1\n",
    "M=A.transpose()\n",
    "C = LinearCode(M)\n",
    "print(C.minimum_distance())"
   ]
  },
  {
   "cell_type": "code",
   "execution_count": 5,
   "metadata": {},
   "outputs": [
    {
     "name": "stdout",
     "output_type": "stream",
     "text": [
      "2 [x, 1]\n",
      "16\n"
     ]
    }
   ],
   "source": [
    "base_field=GF(5^2)\n",
    "r=3\n",
    "K.<x> = FunctionField(base_field); _.<Y> = K[]\n",
    "L.<Y> = K.extension(Y^3+Y - (x^4)); L; _.<T>=L[]; \n",
    "L.genus()\n",
    "P=L.places()\n",
    "xv=[x.valuation(p) for p in P]\n",
    "yv=[Y.valuation(p) for p in P]\n",
    "for i in range(0,len(P)): # finds the unique rational place which is a pole at both x and y\n",
    "    if xv[i]<0 and yv[i]<0:\n",
    "        p=P[i]\n",
    "        break\n",
    "D = p.divisor()\n",
    "D=r*D\n",
    "fxns=D.basis_function_space()\n",
    "print(len(fxns),fxns) # dimension of riemann roch space, basis\n",
    "P.remove(p)\n",
    "A = Matrix(base_field,len(P),len(fxns),[0]*len(P)*len(fxns))\n",
    "count=0\n",
    "for q in P:\n",
    "    k = q.residue_field() # entry number 2 is the required residue class map\n",
    "    row=([k[2](z) for z in fxns])\n",
    "    A[count,:]=vector(row)\n",
    "    count=count+1\n",
    "M=A.transpose()\n",
    "C = LinearCode(M)\n",
    "print(C.minimum_distance())"
   ]
  },
  {
   "cell_type": "code",
   "execution_count": 6,
   "metadata": {},
   "outputs": [
    {
     "name": "stdout",
     "output_type": "stream",
     "text": [
      "3 [x, 1, Y]\n",
      "15\n"
     ]
    }
   ],
   "source": [
    "base_field=GF(5^2)\n",
    "r=5\n",
    "K.<x> = FunctionField(base_field); _.<Y> = K[]\n",
    "L.<Y> = K.extension(Y^3+Y - (x^4)); L; _.<T>=L[]; \n",
    "L.genus()\n",
    "P=L.places()\n",
    "xv=[x.valuation(p) for p in P]\n",
    "yv=[Y.valuation(p) for p in P]\n",
    "for i in range(0,len(P)): # finds the unique rational place which is a pole at both x and y\n",
    "    if xv[i]<0 and yv[i]<0:\n",
    "        p=P[i]\n",
    "        break\n",
    "D = p.divisor()\n",
    "D=r*D\n",
    "fxns=D.basis_function_space()\n",
    "print(len(fxns),fxns) # dimension of riemann roch space, basis\n",
    "P.remove(p)\n",
    "A = Matrix(base_field,len(P),len(fxns),[0]*len(P)*len(fxns))\n",
    "count=0\n",
    "for q in P:\n",
    "    k = q.residue_field() # entry number 2 is the required residue class map\n",
    "    row=([k[2](z) for z in fxns])\n",
    "    A[count,:]=vector(row)\n",
    "    count=count+1\n",
    "M=A.transpose()\n",
    "C = LinearCode(M)\n",
    "print(C.minimum_distance())"
   ]
  },
  {
   "cell_type": "code",
   "execution_count": null,
   "metadata": {},
   "outputs": [
    {
     "name": "stdout",
     "output_type": "stream",
     "text": [
      "6 [x^2, x, 1, x*Y, Y, Y^2]\n"
     ]
    }
   ],
   "source": [
    "base_field=GF(7^2)\n",
    "r=8\n",
    "K.<x> = FunctionField(base_field); _.<Y> = K[]\n",
    "L.<Y> = K.extension(Y^3+Y - (x^4)); L; _.<T>=L[]; \n",
    "L.genus()\n",
    "P=L.places()\n",
    "xv=[x.valuation(p) for p in P]\n",
    "yv=[Y.valuation(p) for p in P]\n",
    "for i in range(0,len(P)): # finds the unique rational place which is a pole at both x and y\n",
    "    if xv[i]<0 and yv[i]<0:\n",
    "        p=P[i]\n",
    "        break\n",
    "D = p.divisor()\n",
    "D=r*D\n",
    "fxns=D.basis_function_space()\n",
    "print(len(fxns),fxns) # dimension of riemann roch space, basis\n",
    "P.remove(p)\n",
    "A = Matrix(base_field,len(P),len(fxns),[0]*len(P)*len(fxns))\n",
    "count=0\n",
    "for q in P:\n",
    "    k = q.residue_field() # entry number 2 is the required residue class map\n",
    "    row=([k[2](z) for z in fxns])\n",
    "    A[count,:]=vector(row)\n",
    "    count=count+1\n",
    "M=A.transpose()\n",
    "C = LinearCode(M)\n",
    "print(C.minimum_distance())"
   ]
  },
  {
   "cell_type": "code",
   "execution_count": null,
   "metadata": {},
   "outputs": [],
   "source": [
    "base_field=GF(7^2)\n",
    "r=3\n",
    "K.<x> = FunctionField(base_field); _.<Y> = K[]\n",
    "L.<Y> = K.extension(Y^3+Y - (x^4)); L; _.<T>=L[]; \n",
    "L.genus()\n",
    "P=L.places()\n",
    "xv=[x.valuation(p) for p in P]\n",
    "yv=[Y.valuation(p) for p in P]\n",
    "for i in range(0,len(P)): # finds the unique rational place which is a pole at both x and y\n",
    "    if xv[i]<0 and yv[i]<0:\n",
    "        p=P[i]\n",
    "        break\n",
    "D = p.divisor()\n",
    "D=r*D\n",
    "fxns=D.basis_function_space()\n",
    "print(len(fxns),fxns) # dimension of riemann roch space, basis\n",
    "P.remove(p)\n",
    "A = Matrix(base_field,len(P),len(fxns),[0]*len(P)*len(fxns))\n",
    "count=0\n",
    "for q in P:\n",
    "    k = q.residue_field() # entry number 2 is the required residue class map\n",
    "    row=([k[2](z) for z in fxns])\n",
    "    A[count,:]=vector(row)\n",
    "    count=count+1\n",
    "M=A.transpose()\n",
    "C = LinearCode(M)\n",
    "print(C.minimum_distance())"
   ]
  },
  {
   "cell_type": "code",
   "execution_count": null,
   "metadata": {},
   "outputs": [],
   "source": [
    "base_field=GF(7^2)\n",
    "r=5\n",
    "K.<x> = FunctionField(base_field); _.<Y> = K[]\n",
    "L.<Y> = K.extension(Y^3+Y - (x^4)); L; _.<T>=L[]; \n",
    "L.genus()\n",
    "P=L.places()\n",
    "xv=[x.valuation(p) for p in P]\n",
    "yv=[Y.valuation(p) for p in P]\n",
    "for i in range(0,len(P)): # finds the unique rational place which is a pole at both x and y\n",
    "    if xv[i]<0 and yv[i]<0:\n",
    "        p=P[i]\n",
    "        break\n",
    "D = p.divisor()\n",
    "D=r*D\n",
    "fxns=D.basis_function_space()\n",
    "print(len(fxns),fxns) # dimension of riemann roch space, basis\n",
    "P.remove(p)\n",
    "A = Matrix(base_field,len(P),len(fxns),[0]*len(P)*len(fxns))\n",
    "count=0\n",
    "for q in P:\n",
    "    k = q.residue_field() # entry number 2 is the required residue class map\n",
    "    row=([k[2](z) for z in fxns])\n",
    "    A[count,:]=vector(row)\n",
    "    count=count+1\n",
    "M=A.transpose()\n",
    "C = LinearCode(M)\n",
    "print(C.minimum_distance())"
   ]
  }
 ],
 "metadata": {
  "kernelspec": {
   "display_name": "SageMath 9.2",
   "language": "sage",
   "name": "sagemath"
  },
  "language_info": {
   "codemirror_mode": {
    "name": "ipython",
    "version": 3
   },
   "file_extension": ".py",
   "mimetype": "text/x-python",
   "name": "python",
   "nbconvert_exporter": "python",
   "pygments_lexer": "ipython3",
   "version": "3.7.7"
  }
 },
 "nbformat": 4,
 "nbformat_minor": 4
}

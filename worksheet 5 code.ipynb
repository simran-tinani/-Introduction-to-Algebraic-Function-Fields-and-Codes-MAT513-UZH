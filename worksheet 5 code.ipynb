{
 "cells": [
  {
   "cell_type": "code",
   "execution_count": null,
   "metadata": {},
   "outputs": [],
   "source": [
    "# Solution to Exercise 3 in sheet 5 (https://www.math.uzh.ch/typo3conf/ext/qfq/Classes/Api/download.php?s=6156b87995b10)"
   ]
  },
  {
   "cell_type": "code",
   "execution_count": 14,
   "metadata": {},
   "outputs": [
    {
     "name": "stdout",
     "output_type": "stream",
     "text": [
      "Genus: 1\n",
      "y + x Canonical: True\n",
      "y + x Basis of RR space: [(1/(x^3 + 4*x^2 + x))*y + 4/(x^2 + 4*x + 1)]\n",
      "1/x Canonical: True\n",
      "1/x Basis of RR space: [x]\n",
      "4*y + x^2 Canonical: True\n",
      "4*y + x^2 Basis of RR space: [(1/(x^4 + 4*x^3 + 4*x))*y + x/(x^3 + 4*x^2 + 4)]\n"
     ]
    }
   ],
   "source": [
    "K.<x> = FunctionField(GF(5))\n",
    "_.<y> = K[]\n",
    "L.<y> = K.extension(y^2 - (x^3 +x))\n",
    "g=L.genus()\n",
    "print(\"Genus:\", g)\n",
    "t=x+y\n",
    "d=t.divisor()\n",
    "deg=d.degree()\n",
    "R=d.basis_function_space()\n",
    "print(t, \"Canonical:\",deg==2*g-2)\n",
    "R=d.basis_function_space()\n",
    "print(t,\"Basis of RR space:\", R)\n",
    "t=1/x\n",
    "d=t.divisor()\n",
    "deg=d.degree()\n",
    "R=d.basis_function_space()\n",
    "print(t,\"Canonical:\", deg==2*g-2)\n",
    "R=d.basis_function_space()\n",
    "print(t,\"Basis of RR space:\", R)\n",
    "t=x^2-y\n",
    "d=t.divisor()\n",
    "deg=d.degree()\n",
    "R=d.basis_function_space()\n",
    "print(t, \"Canonical:\", deg==2*g-2)\n",
    "R=d.basis_function_space()\n",
    "print(t, \"Basis of RR space:\", R)"
   ]
  },
  {
   "cell_type": "code",
   "execution_count": 15,
   "metadata": {},
   "outputs": [
    {
     "name": "stdout",
     "output_type": "stream",
     "text": [
      "Genus: 2\n",
      "y + x Canonical: False\n",
      "y + x Basis of RR space: [(1/(x^5 + 2*x^4 + 3*x^3 + 3*x + 4))*y + 4*x/(x^5 + 2*x^4 + 3*x^3 + 3*x + 4)]\n",
      "1/x Canonical: False\n",
      "1/x Basis of RR space: [x]\n",
      "4*y + x^2 Canonical: False\n",
      "4*y + x^2 Basis of RR space: [(1/(x^5 + x^4 + 3*x^3 + x^2 + 3*x + 4))*y + x^2/(x^5 + x^4 + 3*x^3 + x^2 + 3*x + 4)]\n"
     ]
    }
   ],
   "source": [
    "K.<x> = FunctionField(GF(5))\n",
    "_.<y> = K[]\n",
    "L.<y> = K.extension(y^2 - (x^5-3*x^4-2*x^3+6*x^2+3*x-1))\n",
    "g=L.genus()\n",
    "print(\"Genus:\", g)\n",
    "t=x+y\n",
    "d=t.divisor()\n",
    "deg=d.degree()\n",
    "R=d.basis_function_space()\n",
    "print(t, \"Canonical:\",deg==2*g-2)\n",
    "R=d.basis_function_space()\n",
    "print(t,\"Basis of RR space:\", R)\n",
    "t=1/x\n",
    "d=t.divisor()\n",
    "deg=d.degree()\n",
    "R=d.basis_function_space()\n",
    "print(t,\"Canonical:\", deg==2*g-2)\n",
    "R=d.basis_function_space()\n",
    "print(t,\"Basis of RR space:\", R)\n",
    "t=x^2-y\n",
    "d=t.divisor()\n",
    "deg=d.degree()\n",
    "R=d.basis_function_space()\n",
    "print(t, \"Canonical:\", deg==2*g-2)\n",
    "R=d.basis_function_space()\n",
    "print(t, \"Basis of RR space:\", R)"
   ]
  },
  {
   "cell_type": "code",
   "execution_count": 16,
   "metadata": {},
   "outputs": [
    {
     "name": "stdout",
     "output_type": "stream",
     "text": [
      "Genus: 1\n",
      "y + x Canonical: True\n",
      "y + x Basis of RR space: [(2/(x^6 + 3*x^5 + 3*x^2 + 2*x))*y + 3/(x^5 + 3*x^4 + 3*x + 2)]\n",
      "1/x Canonical: True\n",
      "1/x Basis of RR space: [x]\n",
      "4*y + x^2 Canonical: True\n",
      "4*y + x^2 Basis of RR space: [(1/(x^6 + 3*x^5 + 4*x^4 + 4*x^2 + 2*x))*y + x/(x^5 + 3*x^4 + 4*x^3 + 4*x + 2)]\n"
     ]
    }
   ],
   "source": [
    "K.<x> = FunctionField(GF(5)) # note the difference made when the base field is varied for the same function\n",
    "_.<y> = K[]\n",
    "L.<y> = K.extension(y^2-(x^6+3*x^5-5*x^4-15*x^3+4*x^2+12*x))\n",
    "g=L.genus()\n",
    "print(\"Genus:\", g)\n",
    "t=x+y\n",
    "d=t.divisor()\n",
    "deg=d.degree()\n",
    "R=d.basis_function_space()\n",
    "print(t, \"Canonical:\",deg==2*g-2)\n",
    "R=d.basis_function_space()\n",
    "print(t,\"Basis of RR space:\", R)\n",
    "t=1/x\n",
    "d=t.divisor()\n",
    "deg=d.degree()\n",
    "R=d.basis_function_space()\n",
    "print(t,\"Canonical:\", deg==2*g-2)\n",
    "R=d.basis_function_space()\n",
    "print(t,\"Basis of RR space:\", R)\n",
    "t=x^2-y\n",
    "d=t.divisor()\n",
    "deg=d.degree()\n",
    "R=d.basis_function_space()\n",
    "print(t, \"Canonical:\", deg==2*g-2)\n",
    "R=d.basis_function_space()\n",
    "print(t, \"Basis of RR space:\", R)"
   ]
  },
  {
   "cell_type": "code",
   "execution_count": 17,
   "metadata": {},
   "outputs": [
    {
     "name": "stdout",
     "output_type": "stream",
     "text": [
      "Genus: 2\n",
      "y + x Canonical: False\n",
      "y + x Basis of RR space: [(1/(x^6 + 3*x^5 + 2*x^4 + 6*x^3 + 3*x^2 + 5*x))*y + 6/(x^5 + 3*x^4 + 2*x^3 + 6*x^2 + 3*x + 5)]\n",
      "1/x Canonical: False\n",
      "1/x Basis of RR space: [x]\n",
      "6*y + x^2 Canonical: False\n",
      "6*y + x^2 Basis of RR space: [(1/(x^6 + 3*x^5 + x^4 + 6*x^3 + 4*x^2 + 5*x))*y + x/(x^5 + 3*x^4 + x^3 + 6*x^2 + 4*x + 5)]\n"
     ]
    }
   ],
   "source": [
    "K.<x> = FunctionField(GF(7)) # note the difference made when the base field is varied for the same function\n",
    "_.<y> = K[]\n",
    "L.<y> = K.extension(y^2-(x^6+3*x^5-5*x^4-15*x^3+4*x^2+12*x))\n",
    "g=L.genus()\n",
    "print(\"Genus:\", g)\n",
    "t=x+y\n",
    "d=t.divisor()\n",
    "deg=d.degree()\n",
    "R=d.basis_function_space()\n",
    "print(t, \"Canonical:\",deg==2*g-2)\n",
    "R=d.basis_function_space()\n",
    "print(t,\"Basis of RR space:\", R)\n",
    "t=1/x\n",
    "d=t.divisor()\n",
    "deg=d.degree()\n",
    "R=d.basis_function_space()\n",
    "print(t,\"Canonical:\", deg==2*g-2)\n",
    "R=d.basis_function_space()\n",
    "print(t,\"Basis of RR space:\", R)\n",
    "t=x^2-y\n",
    "d=t.divisor()\n",
    "deg=d.degree()\n",
    "R=d.basis_function_space()\n",
    "print(t, \"Canonical:\", deg==2*g-2)\n",
    "R=d.basis_function_space()\n",
    "print(t, \"Basis of RR space:\", R)"
   ]
  }
 ],
 "metadata": {
  "kernelspec": {
   "display_name": "SageMath 9.2",
   "language": "sage",
   "name": "sagemath"
  },
  "language_info": {
   "codemirror_mode": {
    "name": "ipython",
    "version": 3
   },
   "file_extension": ".py",
   "mimetype": "text/x-python",
   "name": "python",
   "nbconvert_exporter": "python",
   "pygments_lexer": "ipython3",
   "version": "3.7.7"
  }
 },
 "nbformat": 4,
 "nbformat_minor": 4
}

{
 "cells": [
  {
   "cell_type": "code",
   "execution_count": null,
   "metadata": {},
   "outputs": [],
   "source": [
    "# Solution to Exercise 3 in Sheet 4 (https://www.math.uzh.ch/typo3conf/ext/qfq/Classes/Api/download.php?s=6156b87995a6a)"
   ]
  },
  {
   "cell_type": "code",
   "execution_count": 5,
   "metadata": {},
   "outputs": [
    {
     "name": "stdout",
     "output_type": "stream",
     "text": [
      "0 2\n",
      "rational places of K: [Place (1/x), Place (x), Place (x + 1), Place (x + 2), Place (x + 3), Place (x + 4)]\n",
      "rational places of L: [Place (1/x, 1/x^3*y), Place (x, y + 2), Place (x, y + 3), Place (x + 1, y), Place (x + 4, y + 2), Place (x + 4, y + 3)]\n",
      "K Place (1/x) local uniformizer: 1/x divisor: Place (1/x)\n",
      " - Place (x) Riemann Roch space: [x] degree 0\n",
      "K Place (x) local uniformizer: x divisor: - Place (1/x)\n",
      " + Place (x) Riemann Roch space: [1/x] degree 0\n",
      "K Place (x + 1) local uniformizer: x + 1 divisor: - Place (1/x)\n",
      " + Place (x + 1) Riemann Roch space: [1/(x + 1)] degree 0\n",
      "K Place (x + 2) local uniformizer: x + 2 divisor: - Place (1/x)\n",
      " + Place (x + 2) Riemann Roch space: [1/(x + 2)] degree 0\n",
      "K Place (x + 3) local uniformizer: x + 3 divisor: - Place (1/x)\n",
      " + Place (x + 3) Riemann Roch space: [1/(x + 3)] degree 0\n",
      "K Place (x + 4) local uniformizer: x + 4 divisor: - Place (1/x)\n",
      " + Place (x + 4) Riemann Roch space: [1/(x + 4)] degree 0\n",
      "L Place (1/x, 1/x^3*y) local uniformizer: 1/x^3*y divisor: Place (1/x, 1/x^3*y)\n",
      " - 3*Place (x, y + 2)\n",
      " - 3*Place (x, y + 3)\n",
      " + Place (x + 1, y)\n",
      " + Place (x^4 + x^3 + 2*x^2 + 4*x + 4, y) Riemann Roch space: [(x^3/(x^5 + 2*x^4 + 3*x^3 + x^2 + 3*x + 4))*y] degree: 0\n",
      "L Place (x, y + 2) local uniformizer: x divisor: -2*Place (1/x, 1/x^3*y)\n",
      " + Place (x, y + 2)\n",
      " + Place (x, y + 3) Riemann Roch space: [1/x] degree: 0\n",
      "L Place (x, y + 3) local uniformizer: x divisor: -2*Place (1/x, 1/x^3*y)\n",
      " + Place (x, y + 2)\n",
      " + Place (x, y + 3) Riemann Roch space: [1/x] degree: 0\n",
      "L Place (x + 1, y) local uniformizer: y divisor: -5*Place (1/x, 1/x^3*y)\n",
      " + Place (x + 1, y)\n",
      " + Place (x^4 + x^3 + 2*x^2 + 4*x + 4, y) Riemann Roch space: [(1/(x^5 + 2*x^4 + 3*x^3 + x^2 + 3*x + 4))*y] degree: 0\n",
      "L Place (x + 4, y + 2) local uniformizer: x + 4 divisor: -2*Place (1/x, 1/x^3*y)\n",
      " + Place (x + 4, y + 2)\n",
      " + Place (x + 4, y + 3) Riemann Roch space: [1/(x + 4)] degree: 0\n",
      "L Place (x + 4, y + 3) local uniformizer: x + 4 divisor: -2*Place (1/x, 1/x^3*y)\n",
      " + Place (x + 4, y + 2)\n",
      " + Place (x + 4, y + 3) Riemann Roch space: [1/(x + 4)] degree: 0\n",
      "degree two place of L: Place (x + 3, x^5 + 2*x^4 + 3*x^3 + x^2 + 3*x + 2)\n"
     ]
    }
   ],
   "source": [
    "K.<x> = FunctionField(GF(5))\n",
    "_.<y> = K[]\n",
    "L.<y> = K.extension(y^2 - (x^5 -3*x^4-2*x^3+6*x^2+3*x-1))\n",
    "print(K.genus(), L.genus())\n",
    "p1 = K.places(); p2=L.places();\n",
    "print(\"rational places of K:\",p1)\n",
    "print(\"rational places of L:\", p2)\n",
    "for p in p1:\n",
    "    t=p.local_uniformizer()\n",
    "    d=t.divisor()\n",
    "    R=d.basis_function_space()\n",
    "    deg=d.degree()\n",
    "    print(\"K\", p, \"local uniformizer:\",t,\"divisor:\", d,\"Riemann Roch space:\", R, \"degree\", deg)\n",
    "for p in p2:\n",
    "    t=p.local_uniformizer()\n",
    "    d=t.divisor()\n",
    "    R=d.basis_function_space()\n",
    "    deg=d.degree()\n",
    "    print(\"L\", p, \"local uniformizer:\",t,\"divisor:\", d, \"Riemann Roch space:\", R, \"degree:\", deg)\n",
    "print(\"degree two place of L:\", L.places(2)[1])"
   ]
  },
  {
   "cell_type": "code",
   "execution_count": 6,
   "metadata": {},
   "outputs": [
    {
     "name": "stdout",
     "output_type": "stream",
     "text": [
      "0 1\n",
      "rational places of K: [Place (1/x), Place (x), Place (x + 1), Place (x + 2), Place (x + 3), Place (x + 4)]\n",
      "rational places of L: [Place (1/x, 1/x^2*y), Place (x, y), Place (x + 2, y), Place (x + 3, y)]\n",
      "K Place (1/x) local uniformizer: 1/x divisor: Place (1/x)\n",
      " - Place (x) Riemann Roch space: [x] degree 0\n",
      "K Place (x) local uniformizer: x divisor: - Place (1/x)\n",
      " + Place (x) Riemann Roch space: [1/x] degree 0\n",
      "K Place (x + 1) local uniformizer: x + 1 divisor: - Place (1/x)\n",
      " + Place (x + 1) Riemann Roch space: [1/(x + 1)] degree 0\n",
      "K Place (x + 2) local uniformizer: x + 2 divisor: - Place (1/x)\n",
      " + Place (x + 2) Riemann Roch space: [1/(x + 2)] degree 0\n",
      "K Place (x + 3) local uniformizer: x + 3 divisor: - Place (1/x)\n",
      " + Place (x + 3) Riemann Roch space: [1/(x + 3)] degree 0\n",
      "K Place (x + 4) local uniformizer: x + 4 divisor: - Place (1/x)\n",
      " + Place (x + 4) Riemann Roch space: [1/(x + 4)] degree 0\n",
      "L Place (1/x, 1/x^2*y) local uniformizer: 1/x^2*y divisor: Place (1/x, 1/x^2*y)\n",
      " - 3*Place (x, y)\n",
      " + Place (x + 2, y)\n",
      " + Place (x + 3, y) Riemann Roch space: [(x/(x^2 + 1))*y] degree: 0\n",
      "L Place (x, y) local uniformizer: y divisor: -3*Place (1/x, 1/x^2*y)\n",
      " + Place (x, y)\n",
      " + Place (x + 2, y)\n",
      " + Place (x + 3, y) Riemann Roch space: [(1/(x^3 + x))*y] degree: 0\n",
      "L Place (x + 2, y) local uniformizer: y divisor: -3*Place (1/x, 1/x^2*y)\n",
      " + Place (x, y)\n",
      " + Place (x + 2, y)\n",
      " + Place (x + 3, y) Riemann Roch space: [(1/(x^3 + x))*y] degree: 0\n",
      "L Place (x + 3, y) local uniformizer: y divisor: -3*Place (1/x, 1/x^2*y)\n",
      " + Place (x, y)\n",
      " + Place (x + 2, y)\n",
      " + Place (x + 3, y) Riemann Roch space: [(1/(x^3 + x))*y] degree: 0\n",
      "degree two place of L: Place (x + 4, x^3 + x + 3)\n"
     ]
    }
   ],
   "source": [
    "K.<x> = FunctionField(GF(5))\n",
    "_.<y> = K[]\n",
    "L.<y> = K.extension(y^2 - (x^3 -4*x))\n",
    "print(K.genus(), L.genus())\n",
    "p1 = K.places(); p2=L.places();\n",
    "print(\"rational places of K:\",p1)\n",
    "print(\"rational places of L:\", p2)\n",
    "for p in p1:\n",
    "    t=p.local_uniformizer()\n",
    "    d=t.divisor()\n",
    "    R=d.basis_function_space()\n",
    "    deg=d.degree()\n",
    "    print(\"K\", p, \"local uniformizer:\",t,\"divisor:\", d,\"Riemann Roch space:\", R, \"degree\", deg)\n",
    "for p in p2:\n",
    "    t=p.local_uniformizer()\n",
    "    d=t.divisor()\n",
    "    R=d.basis_function_space()\n",
    "    deg=d.degree()\n",
    "    print(\"L\", p, \"local uniformizer:\",t,\"divisor:\", d, \"Riemann Roch space:\", R, \"degree:\", deg)\n",
    "print(\"degree two place of L:\", L.places(2)[1])"
   ]
  },
  {
   "cell_type": "code",
   "execution_count": 7,
   "metadata": {},
   "outputs": [
    {
     "name": "stdout",
     "output_type": "stream",
     "text": [
      "0 3\n",
      "rational places of K: [Place (1/x), Place (x), Place (x + 1), Place (x + 2), Place (x + 3), Place (x + 4)]\n",
      "rational places of L: [Place (1/x, 1/x*y), Place (x, y)]\n",
      "K Place (1/x) local uniformizer: 1/x divisor: Place (1/x)\n",
      " - Place (x) Riemann Roch space: [x] degree 0\n",
      "K Place (x) local uniformizer: x divisor: - Place (1/x)\n",
      " + Place (x) Riemann Roch space: [1/x] degree 0\n",
      "K Place (x + 1) local uniformizer: x + 1 divisor: - Place (1/x)\n",
      " + Place (x + 1) Riemann Roch space: [1/(x + 1)] degree 0\n",
      "K Place (x + 2) local uniformizer: x + 2 divisor: - Place (1/x)\n",
      " + Place (x + 2) Riemann Roch space: [1/(x + 2)] degree 0\n",
      "K Place (x + 3) local uniformizer: x + 3 divisor: - Place (1/x)\n",
      " + Place (x + 3) Riemann Roch space: [1/(x + 3)] degree 0\n",
      "K Place (x + 4) local uniformizer: x + 4 divisor: - Place (1/x)\n",
      " + Place (x + 4) Riemann Roch space: [1/(x + 4)] degree 0\n",
      "L Place (1/x, 1/x*y) local uniformizer: 1/x*y divisor: Place (1/x, 1/x*y)\n",
      " - 3*Place (x, y)\n",
      " + Place (x^2 + x + 1, y) Riemann Roch space: [(1/(x^2 + x + 1))*y^3] degree: 0\n",
      "L Place (x, y) local uniformizer: y divisor: -3*Place (1/x, 1/x*y)\n",
      " + Place (x, y)\n",
      " + Place (x^2 + x + 1, y) Riemann Roch space: [(1/(x^3 + x^2 + x))*y^3] degree: 0\n",
      "degree two place of L: Place (x + 1, y^2 + 3)\n"
     ]
    }
   ],
   "source": [
    "K.<x> = FunctionField(GF(5))\n",
    "_.<y> = K[]\n",
    "L.<y> = K.extension(y^4 - (x^3+x^2+x))\n",
    "print(K.genus(), L.genus())\n",
    "p1 = K.places(); p2=L.places();\n",
    "print(\"rational places of K:\",p1)\n",
    "print(\"rational places of L:\", p2)\n",
    "for p in p1:\n",
    "    t=p.local_uniformizer()\n",
    "    d=t.divisor()\n",
    "    R=d.basis_function_space()\n",
    "    deg=d.degree()\n",
    "    print(\"K\", p, \"local uniformizer:\",t,\"divisor:\", d,\"Riemann Roch space:\", R, \"degree\", deg)\n",
    "for p in p2:\n",
    "    t=p.local_uniformizer()\n",
    "    d=t.divisor()\n",
    "    R=d.basis_function_space()\n",
    "    deg=d.degree()\n",
    "    print(\"L\", p, \"local uniformizer:\",t,\"divisor:\", d, \"Riemann Roch space:\", R, \"degree:\", deg)\n",
    "print(\"degree two place of L:\", L.places(2)[1])"
   ]
  },
  {
   "cell_type": "code",
   "execution_count": 9,
   "metadata": {},
   "outputs": [
    {
     "name": "stdout",
     "output_type": "stream",
     "text": [
      "0 0\n",
      "rational places of K: [Place (1/x), Place (x), Place (x + 1), Place (x + 2), Place (x + 3), Place (x + 4), Place (x + 5), Place (x + 6)]\n",
      "rational places of L: [Place (1/x, (6/(x + 6))*y + 3/(x + 6)), Place (x, (x/(x + 6))*y + 4*x/(x + 6)), Place (x + 1, (x/(x + 6))*y + (3*x + 1)/(x + 6)), Place (x + 1, (x/(x + 6))*y + (5*x + 6)/(x + 6)), Place (x + 2, (x/(x + 6))*y + 4/(x + 6)), Place (x + 2, (x/(x + 6))*y + (x + 3)/(x + 6)), Place (x + 4, (x/(x + 6))*y + (2*x + 2)/(x + 6)), Place (x + 4, (x/(x + 6))*y + (6*x + 5)/(x + 6))]\n",
      "degree 3 place: Place (x^3 + 2, (x/(x + 6))*y + (2*x^3 + 5*x^2 + 4*x)/(x + 6)) local uniformizer: x^3 + 2 divisor: -6*Place (1/x, (6/(x + 6))*y + 3/(x + 6))\n",
      " + Place (x^3 + 2, (x/(x + 6))*y + (2*x^3 + 5*x^2 + 4*x)/(x + 6))\n",
      " + Place (x^3 + 2, (x/(x + 6))*y + (5*x^3 + 2*x^2 + 4*x)/(x + 6)) Riemann Roch space basis: [1/(x^3 + 2)] degree: 0\n"
     ]
    }
   ],
   "source": [
    "K.<x> = FunctionField(GF(7))\n",
    "_.<y> = K[]\n",
    "L.<y> = K.extension(y^2 +y +x+1/x)\n",
    "print(K.genus(), L.genus())\n",
    "p1 = K.places(); p2=L.places();\n",
    "print(\"rational places of K:\",p1)\n",
    "print(\"rational places of L:\", p2)\n",
    "p=L.places(3)[0]\n",
    "t=p.local_uniformizer()\n",
    "d=t.divisor()\n",
    "R=d.basis_function_space()\n",
    "deg=d.degree()\n",
    "print(\"degree 3 place:\", p, \"local uniformizer:\",t,\"divisor:\", d, \"Riemann Roch space basis:\", R, \"degree:\", deg)\n"
   ]
  }
 ],
 "metadata": {
  "kernelspec": {
   "display_name": "SageMath 9.2",
   "language": "sage",
   "name": "sagemath"
  },
  "language_info": {
   "codemirror_mode": {
    "name": "ipython",
    "version": 3
   },
   "file_extension": ".py",
   "mimetype": "text/x-python",
   "name": "python",
   "nbconvert_exporter": "python",
   "pygments_lexer": "ipython3",
   "version": "3.7.7"
  }
 },
 "nbformat": 4,
 "nbformat_minor": 4
}
